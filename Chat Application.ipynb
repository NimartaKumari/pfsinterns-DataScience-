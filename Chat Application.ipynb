{
 "cells": [
  {
   "cell_type": "code",
   "execution_count": null,
   "id": "fade8c4a",
   "metadata": {},
   "outputs": [
    {
     "name": "stdout",
     "output_type": "stream",
     "text": [
      "Hello! I'm your chat partner TalkTechie. You can type 'exit' to end the conversation.\n",
      "You: What is your name\n",
      "Chatbot: I don't know the answer. Can you teach me? What should I say? My name is nimarta\n",
      "Chatbot: Thanks for teaching me!\n",
      "You: bye\n",
      "Chatbot: I don't know the answer. Can you teach me? What should I say? Where are you\n",
      "Chatbot: Thanks for teaching me!\n"
     ]
    }
   ],
   "source": [
    "import json\n",
    "\n",
    "def load_data():\n",
    "    try:\n",
    "        with open('chatbot_data.json', 'r') as file:\n",
    "            data = json.load(file)\n",
    "        return data\n",
    "    except FileNotFoundError:\n",
    "        return {}\n",
    "\n",
    "def save_data(data):\n",
    "    with open('chatbot_data.json', 'w') as file:\n",
    "        json.dump(data, file)\n",
    "\n",
    "def chatbot():\n",
    "    print(\"Hello! I'm your chat partner TalkTechie. You can type 'exit' to end the conversation.\")\n",
    "    \n",
    "    data = load_data()\n",
    "\n",
    "    while True:\n",
    "        user_input = input(\"You: \").lower()\n",
    "\n",
    "        if user_input == 'exit':\n",
    "            save_data(data)\n",
    "            break\n",
    "\n",
    "        if user_input in data:\n",
    "            print(\"Chatbot:\", data[user_input])\n",
    "        else:\n",
    "            new_answer = input(\"Chatbot: I don't know the answer. Can you teach me? What should I say? \")\n",
    "            data[user_input] = new_answer\n",
    "            print(\"Chatbot: Thanks for teaching me!\")\n",
    "\n",
    "    print(\"Goodbye!\")\n",
    "\n",
    "if __name__ == \"__main__\":\n",
    "    chatbot()\n"
   ]
  },
  {
   "cell_type": "code",
   "execution_count": null,
   "id": "bf1f3fb7",
   "metadata": {},
   "outputs": [],
   "source": []
  },
  {
   "cell_type": "code",
   "execution_count": null,
   "id": "9726eb0b",
   "metadata": {},
   "outputs": [],
   "source": []
  }
 ],
 "metadata": {
  "kernelspec": {
   "display_name": "Python 3 (ipykernel)",
   "language": "python",
   "name": "python3"
  },
  "language_info": {
   "codemirror_mode": {
    "name": "ipython",
    "version": 3
   },
   "file_extension": ".py",
   "mimetype": "text/x-python",
   "name": "python",
   "nbconvert_exporter": "python",
   "pygments_lexer": "ipython3",
   "version": "3.11.5"
  }
 },
 "nbformat": 4,
 "nbformat_minor": 5
}
