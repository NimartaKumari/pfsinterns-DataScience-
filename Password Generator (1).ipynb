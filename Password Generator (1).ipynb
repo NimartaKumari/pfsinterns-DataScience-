{
 "cells": [
  {
   "cell_type": "code",
   "execution_count": 1,
   "id": "07f84e9d",
   "metadata": {},
   "outputs": [],
   "source": [
    "import random"
   ]
  },
  {
   "cell_type": "code",
   "execution_count": 2,
   "id": "89d9f967",
   "metadata": {},
   "outputs": [],
   "source": [
    "letters = ['a','b','c','d','e','f','g','h','i','j','k','l','m','n','o','p','q','r','s','t','u','v','w','x','y','z','A','B','C',\n",
    "          'D','E','F','G','H','I','J','K','L','M','N','O','P','Q','R','S','T','U','V','W','X','Y','Z']"
   ]
  },
  {
   "cell_type": "code",
   "execution_count": 3,
   "id": "dd345ea3",
   "metadata": {},
   "outputs": [],
   "source": [
    "numbers = ['0','1','2','3','4','5','6','7','8','9']"
   ]
  },
  {
   "cell_type": "code",
   "execution_count": 4,
   "id": "26dd348a",
   "metadata": {},
   "outputs": [],
   "source": [
    "symbols = ['!','#','$','%','&','(', ')','*','+']"
   ]
  },
  {
   "cell_type": "code",
   "execution_count": 5,
   "id": "d21f33ff",
   "metadata": {},
   "outputs": [
    {
     "name": "stdout",
     "output_type": "stream",
     "text": [
      "Welcome to Password Generator!\n",
      "How many letters you want in your password?\n",
      "3\n",
      "How many symbols you want in your password?\n",
      "5\n",
      "How many numbers you want in your password?\n",
      "4\n",
      "['i', 'N', 'b', '*', '*', ')', '(', '&', '9', '1', '4', '0']\n",
      "['i', '1', '*', '0', 'b', ')', '&', '9', '4', 'N', '*', '(']\n",
      "i1*0b)&94N*(\n"
     ]
    }
   ],
   "source": [
    "print(\"Welcome to Password Generator!\")\n",
    "n_letters=int(input(\"How many letters you want in your password?\\n\"))\n",
    "n_symbols=int(input(\"How many symbols you want in your password?\\n\"))\n",
    "n_numbers=int(input(\"How many numbers you want in your password?\\n\"))\n",
    "password_list=[]\n",
    "for i in range(1,n_letters+1):\n",
    "    char = random.choice(letters)\n",
    "    password_list += char\n",
    "for i in range(1,n_symbols+1):\n",
    "    char = random.choice(symbols)\n",
    "    password_list += char\n",
    "for i in range(1,n_numbers+1):\n",
    "    char = random.choice(numbers)\n",
    "    password_list += char\n",
    "print(password_list)\n",
    "random.shuffle(password_list)\n",
    "print(password_list)\n",
    "password=\"\"\n",
    "for char in password_list:\n",
    "    password += char\n",
    "print(password)\n",
    "    "
   ]
  },
  {
   "cell_type": "code",
   "execution_count": null,
   "id": "e14ba654",
   "metadata": {},
   "outputs": [],
   "source": []
  },
  {
   "cell_type": "code",
   "execution_count": null,
   "id": "401cb9c5",
   "metadata": {},
   "outputs": [],
   "source": []
  }
 ],
 "metadata": {
  "kernelspec": {
   "display_name": "Python 3 (ipykernel)",
   "language": "python",
   "name": "python3"
  },
  "language_info": {
   "codemirror_mode": {
    "name": "ipython",
    "version": 3
   },
   "file_extension": ".py",
   "mimetype": "text/x-python",
   "name": "python",
   "nbconvert_exporter": "python",
   "pygments_lexer": "ipython3",
   "version": "3.11.5"
  }
 },
 "nbformat": 4,
 "nbformat_minor": 5
}
