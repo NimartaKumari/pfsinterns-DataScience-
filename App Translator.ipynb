{
 "cells": [
  {
   "cell_type": "code",
   "execution_count": 1,
   "id": "9f29fc97",
   "metadata": {},
   "outputs": [
    {
     "name": "stdout",
     "output_type": "stream",
     "text": [
      "Requirement already satisfied: googletrans==4.0.0-rc1 in c:\\annnacoda\\lib\\site-packages (4.0.0rc1)\n",
      "Requirement already satisfied: httpx==0.13.3 in c:\\annnacoda\\lib\\site-packages (from googletrans==4.0.0-rc1) (0.13.3)\n",
      "Requirement already satisfied: certifi in c:\\annnacoda\\lib\\site-packages (from httpx==0.13.3->googletrans==4.0.0-rc1) (2023.7.22)\n",
      "Requirement already satisfied: hstspreload in c:\\annnacoda\\lib\\site-packages (from httpx==0.13.3->googletrans==4.0.0-rc1) (2024.6.1)\n",
      "Requirement already satisfied: sniffio in c:\\annnacoda\\lib\\site-packages (from httpx==0.13.3->googletrans==4.0.0-rc1) (1.2.0)\n",
      "Requirement already satisfied: chardet==3.* in c:\\annnacoda\\lib\\site-packages (from httpx==0.13.3->googletrans==4.0.0-rc1) (3.0.4)\n",
      "Requirement already satisfied: idna==2.* in c:\\annnacoda\\lib\\site-packages (from httpx==0.13.3->googletrans==4.0.0-rc1) (2.10)\n",
      "Requirement already satisfied: rfc3986<2,>=1.3 in c:\\annnacoda\\lib\\site-packages (from httpx==0.13.3->googletrans==4.0.0-rc1) (1.5.0)\n",
      "Requirement already satisfied: httpcore==0.9.* in c:\\annnacoda\\lib\\site-packages (from httpx==0.13.3->googletrans==4.0.0-rc1) (0.9.1)\n",
      "Requirement already satisfied: h11<0.10,>=0.8 in c:\\annnacoda\\lib\\site-packages (from httpcore==0.9.*->httpx==0.13.3->googletrans==4.0.0-rc1) (0.9.0)\n",
      "Requirement already satisfied: h2==3.* in c:\\annnacoda\\lib\\site-packages (from httpcore==0.9.*->httpx==0.13.3->googletrans==4.0.0-rc1) (3.2.0)\n",
      "Requirement already satisfied: hyperframe<6,>=5.2.0 in c:\\annnacoda\\lib\\site-packages (from h2==3.*->httpcore==0.9.*->httpx==0.13.3->googletrans==4.0.0-rc1) (5.2.0)\n",
      "Requirement already satisfied: hpack<4,>=3.0 in c:\\annnacoda\\lib\\site-packages (from h2==3.*->httpcore==0.9.*->httpx==0.13.3->googletrans==4.0.0-rc1) (3.0.0)\n",
      "Note: you may need to restart the kernel to use updated packages.\n"
     ]
    }
   ],
   "source": [
    "pip install googletrans==4.0.0-rc1\n"
   ]
  },
  {
   "cell_type": "code",
   "execution_count": 2,
   "id": "1a77cf56",
   "metadata": {},
   "outputs": [
    {
     "name": "stdout",
     "output_type": "stream",
     "text": [
      "Requirement already satisfied: tk in c:\\annnacoda\\lib\\site-packages (0.1.0)\n",
      "Note: you may need to restart the kernel to use updated packages.\n"
     ]
    }
   ],
   "source": [
    "pip install tk"
   ]
  },
  {
   "cell_type": "code",
   "execution_count": 3,
   "id": "524fa56f",
   "metadata": {},
   "outputs": [],
   "source": [
    "import tkinter as tk\n",
    "from tkinter import ttk, messagebox\n",
    "from googletrans import Translator, LANGUAGES"
   ]
  },
  {
   "cell_type": "code",
   "execution_count": 4,
   "id": "5d7b3b47",
   "metadata": {},
   "outputs": [],
   "source": [
    "translator = Translator()"
   ]
  },
  {
   "cell_type": "code",
   "execution_count": 5,
   "id": "984212a7",
   "metadata": {},
   "outputs": [
    {
     "data": {
      "text/plain": [
       "''"
      ]
     },
     "execution_count": 5,
     "metadata": {},
     "output_type": "execute_result"
    }
   ],
   "source": [
    "root = tk.Tk()\n",
    "root.title(\"Text Translator\")\n",
    "root.geometry(\"600x400\")\n"
   ]
  },
  {
   "cell_type": "code",
   "execution_count": 6,
   "id": "ee1a7017",
   "metadata": {},
   "outputs": [],
   "source": [
    "def translate_text():\n",
    "    try:\n",
    "        # Get the input text\n",
    "        src_text = input_text.get(\"1.0\", tk.END).strip()\n",
    "        # Get selected source and target languages\n",
    "        src_lang = src_lang_combo.get()\n",
    "        dest_lang = dest_lang_combo.get()\n",
    "\n",
    "        # Translate the text\n",
    "        translation = translator.translate(src_text, src=src_lang, dest=dest_lang)\n",
    "        translated_text.delete(\"1.0\", tk.END)\n",
    "        translated_text.insert(tk.END, translation.text)\n",
    "    except Exception as e:\n",
    "        messagebox.showerror(\"Translation Error\", str(e))\n"
   ]
  },
  {
   "cell_type": "code",
   "execution_count": null,
   "id": "28cab9db",
   "metadata": {},
   "outputs": [],
   "source": [
    "# Labels and Text Boxes\n",
    "tk.Label(root, text=\"Enter your Text:\").pack(pady=10)\n",
    "input_text = tk.Text(root, height=6, wrap='word')\n",
    "input_text.pack(pady=10)\n",
    "\n",
    "tk.Label(root, text=\"Translated the our Text:\").pack(pady=10)\n",
    "translated_text = tk.Text(root, height=6, wrap='word')\n",
    "translated_text.pack(pady=10)\n",
    "\n",
    "# Language Selection Comboboxes\n",
    "tk.Label(root, text=\"Input Language:\").pack(pady=5)\n",
    "src_lang_combo = ttk.Combobox(root, values=list(LANGUAGES.values()), state='readonly')\n",
    "src_lang_combo.pack(pady=5)\n",
    "src_lang_combo.set('english')\n",
    "\n",
    "tk.Label(root, text=\"Output Language:\").pack(pady=5)\n",
    "dest_lang_combo = ttk.Combobox(root, values=list(LANGUAGES.values()), state='readonly')\n",
    "dest_lang_combo.pack(pady=5)\n",
    "dest_lang_combo.set('Urdu') \n",
    "\n",
    "# Translate\n",
    "translate_button = tk.Button(root, text=\"Translate\", command=translate_text)\n",
    "translate_button.pack(pady=20)\n",
    "\n",
    "# Run the application\n",
    "root.mainloop()"
   ]
  },
  {
   "cell_type": "code",
   "execution_count": null,
   "id": "f85755aa",
   "metadata": {},
   "outputs": [],
   "source": []
  }
 ],
 "metadata": {
  "kernelspec": {
   "display_name": "Python 3 (ipykernel)",
   "language": "python",
   "name": "python3"
  },
  "language_info": {
   "codemirror_mode": {
    "name": "ipython",
    "version": 3
   },
   "file_extension": ".py",
   "mimetype": "text/x-python",
   "name": "python",
   "nbconvert_exporter": "python",
   "pygments_lexer": "ipython3",
   "version": "3.11.5"
  }
 },
 "nbformat": 4,
 "nbformat_minor": 5
}
